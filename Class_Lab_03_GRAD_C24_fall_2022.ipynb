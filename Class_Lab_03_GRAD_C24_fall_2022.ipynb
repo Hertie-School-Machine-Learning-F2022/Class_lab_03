{
  "nbformat": 4,
  "nbformat_minor": 0,
  "metadata": {
    "colab": {
      "provenance": [],
      "authorship_tag": "ABX9TyOUOQ3P9DSFM4rjov6DU2/N",
      "include_colab_link": true
    },
    "kernelspec": {
      "name": "python3",
      "display_name": "Python 3"
    },
    "language_info": {
      "name": "python"
    }
  },
  "cells": [
    {
      "cell_type": "markdown",
      "metadata": {
        "id": "view-in-github",
        "colab_type": "text"
      },
      "source": [
        "<a href=\"https://colab.research.google.com/github/Hertie-School-Machine-Learning-F2022/Class_lab_03/blob/main/Class_Lab_03_GRAD_C24_fall_2022.ipynb\" target=\"_parent\"><img src=\"https://colab.research.google.com/assets/colab-badge.svg\" alt=\"Open In Colab\"/></a>"
      ]
    },
    {
      "cell_type": "code",
      "execution_count": null,
      "metadata": {
        "id": "eqWcir9N-sZB"
      },
      "outputs": [],
      "source": [
        "# Let's import a data set \n",
        "\n",
        "\n",
        "\n",
        "# Let us use the parameter setting to make things easier for us: return_X_y = True, \n",
        "# return a dataframe please.\n",
        "\n",
        "\n",
        "\n",
        "# What is the data frame about?\n",
        "https://scikit-learn.org/stable/modules/generated/sklearn.datasets.load_breast_cancer.html#examples-using-sklearn-datasets-load-breast-cancer"
      ]
    },
    {
      "cell_type": "markdown",
      "source": [
        "Based in this, can we know what type of model we need? Classification or prediction? \n",
        "How many classes?"
      ],
      "metadata": {
        "id": "b06xUpD1q6uo"
      }
    },
    {
      "cell_type": "code",
      "source": [
        "# Lets take a quick look at X.\n",
        "# what other words can we use to call X?\n",
        "\n"
      ],
      "metadata": {
        "id": "CBaG_FEEjfKo"
      },
      "execution_count": null,
      "outputs": []
    },
    {
      "cell_type": "code",
      "source": [
        "# And a look at y \n",
        "# what other words can we use to call y?\n",
        "\n"
      ],
      "metadata": {
        "id": "faLgZUopkJl7"
      },
      "execution_count": null,
      "outputs": []
    },
    {
      "cell_type": "markdown",
      "source": [
        "Now we need to seperate our data into training and testing data. "
      ],
      "metadata": {
        "id": "HnkAR0RnrPq0"
      }
    },
    {
      "cell_type": "code",
      "source": [
        "\n",
        "\n",
        "# We need to set the name of the 4 objects that will be created\n",
        "# As arguments we add our X and our y, it will separate it into 4 \n",
        "# What are those 4 groups that we need? \n",
        "\n",
        "\n",
        "\n",
        "# We can move the size of the test size\n",
        "\n"
      ],
      "metadata": {
        "id": "oOWcfGKuqG7A"
      },
      "execution_count": null,
      "outputs": []
    },
    {
      "cell_type": "code",
      "source": [
        "# Now lets take a look at our data \n"
      ],
      "metadata": {
        "id": "ATrdZ52tqT3n"
      },
      "execution_count": null,
      "outputs": []
    },
    {
      "cell_type": "markdown",
      "source": [
        "Up to now what have we done?\n",
        "Can we add this data to a classification model? \n",
        "What classification models come to mind?\n",
        "\n"
      ],
      "metadata": {
        "id": "U4yEH3QulFIU"
      }
    },
    {
      "cell_type": "code",
      "source": [
        "# Let's build a simple classification pipeline. First import pipeline\n",
        "\n",
        "\n",
        "\n",
        "# Our data has different dimesions, so let's scale it. Import Scaler\n",
        "\n",
        "\n",
        "\n",
        "# Now let's chose our model \n",
        "\n",
        "\n",
        "\n",
        "# Two step pipeline. First preprocess the data with the Standard Scaler,\n",
        "# then add the model, in this case a Logistic Regression \n",
        "\n"
      ],
      "metadata": {
        "id": "L-Pusfw_r4jG"
      },
      "execution_count": null,
      "outputs": []
    },
    {
      "cell_type": "code",
      "source": [
        "# Which data can we fit now? \n"
      ],
      "metadata": {
        "id": "tcVXRZ1GtSMt"
      },
      "execution_count": null,
      "outputs": []
    },
    {
      "cell_type": "code",
      "source": [
        "# What's the next step? Prediction \n"
      ],
      "metadata": {
        "id": "yd_lfzJotUCx"
      },
      "execution_count": null,
      "outputs": []
    },
    {
      "cell_type": "code",
      "source": [
        "# What is the outcome of the .predict function?\n",
        "\n",
        "\n",
        "# an array with what? "
      ],
      "metadata": {
        "id": "RD552QIttcYO"
      },
      "execution_count": null,
      "outputs": []
    },
    {
      "cell_type": "code",
      "source": [
        "# We can look at the metrics!\n",
        "\n"
      ],
      "metadata": {
        "id": "GdtFBcCYtoom"
      },
      "execution_count": null,
      "outputs": []
    },
    {
      "cell_type": "code",
      "source": [
        "# We can create a heat map of the metrics \n",
        "\n",
        "import numpy as np \n",
        "\n",
        "import matplotlib.pyplot as plt \n",
        "\n",
        "import seaborn as sns \n",
        "\n",
        "\n",
        "\n",
        "class_names=[0,1] # name  of classes \n",
        "\n",
        "fig, ax = plt.subplots() \n",
        "\n",
        "tick_marks = np.arange(len(class_names)) \n",
        "\n",
        "plt.xticks(tick_marks, class_names) \n",
        "\n",
        "plt.yticks(tick_marks, class_names) \n",
        "\n",
        "# create heatmap \n",
        "\n",
        "sns.heatmap(pd.DataFrame(cnf_matrix), annot=True, cmap=\"YlGnBu\" ,fmt='g') \n",
        "\n",
        "ax.xaxis.set_label_position(\"top\") \n",
        "\n",
        "plt.tight_layout() \n",
        "\n",
        "plt.title('Confusion matrix', y=1.1) \n",
        "\n",
        "plt.ylabel('Actual label') \n",
        "\n",
        "plt.xlabel('Predicted label')"
      ],
      "metadata": {
        "id": "4FL_0kAG0wHp"
      },
      "execution_count": null,
      "outputs": []
    },
    {
      "cell_type": "markdown",
      "source": [
        "Accuracy = (TP + TN) / (ALL)\n",
        "\n",
        "Precision = TP / (TP + FP)"
      ],
      "metadata": {
        "id": "49bRbmdP4S7S"
      }
    },
    {
      "cell_type": "code",
      "source": [
        "# Let's see the values of the accuracy and the precision\n",
        "\n"
      ],
      "metadata": {
        "id": "X-lvc7J11GH0"
      },
      "execution_count": null,
      "outputs": []
    },
    {
      "cell_type": "code",
      "source": [
        "# We the problem with our model is that it has already seen the testing data. \n",
        "# And that generates leakage probelms. It's kind of like cheating\n",
        "\n",
        "# How can we make sure we have the best possible model without using our test data?\n",
        "\n",
        "# Cross Validation \n",
        "\n",
        "# The idea behind cross validation, is to generate pseudo testing and traing by \n",
        "# spliting the testing data into folds and getting our model to test and train on \n",
        "# unseen data, without having to intoduce our testing data.\n",
        "\n"
      ],
      "metadata": {
        "id": "QWVtJ3A58d23"
      },
      "execution_count": null,
      "outputs": []
    },
    {
      "cell_type": "code",
      "source": [
        "# Access the scores\n"
      ],
      "metadata": {
        "id": "9CIqXUJO85kt"
      },
      "execution_count": null,
      "outputs": []
    },
    {
      "cell_type": "code",
      "source": [
        "# What else can we do to make our model better? \n",
        "# We know about standardscaler for preprocessing for example. \n",
        "# But there are other thing inside the logistic regression algorithm\n",
        "# that we can tweek to have the best possible model. While we tune\n",
        "# we use CV to test out the parameters.\n",
        "\n",
        "# what parameters can we modify?\n"
      ],
      "metadata": {
        "id": "C66P-M5k85fx"
      },
      "execution_count": null,
      "outputs": []
    },
    {
      "cell_type": "code",
      "source": [
        "# We can now use the GridSearchCV object to automatically \n",
        "# fit models and predict models with different parameters\n",
        "# while using cross validadtion. Then compare the results.\n",
        "\n",
        "from sklearn.model_selection import GridSearchCV\n",
        "\n",
        "mod = GridSearchCV(estimator=pipe,\n",
        "                 #using a dict object we add the things we want the model to try\n",
        "                 param_grid={\n",
        "                   'model__': [],          # Parameter penalty, this two options\n",
        "                   'model__': [] # Parameter solver, try this two options\n",
        "                 },\n",
        "                 cv= ) # and cross validate 3 times"
      ],
      "metadata": {
        "id": "S-CINeWE_-hX"
      },
      "execution_count": null,
      "outputs": []
    },
    {
      "cell_type": "code",
      "source": [
        "# We can fit the model now \n",
        "\n",
        "\n",
        "# and take a look at the results\n"
      ],
      "metadata": {
        "id": "ZnBFSJkfAS2J"
      },
      "execution_count": null,
      "outputs": []
    },
    {
      "cell_type": "code",
      "source": [
        "# We now see that the best parameters are 'model__penalty': 'l1', 'model__solver': 'liblinear'\n",
        "# So we create a pipeline with the specs we want \n",
        "\n",
        "\n",
        "\n",
        "# and fit and predict\n",
        "\n"
      ],
      "metadata": {
        "id": "C4zyTnpaAcgX"
      },
      "execution_count": null,
      "outputs": []
    },
    {
      "cell_type": "code",
      "source": [
        "# Let's see how well it did\n",
        "\n",
        "\n",
        "# Pretty good! \n"
      ],
      "metadata": {
        "id": "9RQHBKSTBI50"
      },
      "execution_count": null,
      "outputs": []
    }
  ]
}